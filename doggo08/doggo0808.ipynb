{
 "cells": [
  {
   "cell_type": "markdown",
   "id": "8d9f09a2-79f5-466c-8368-4bb495152407",
   "metadata": {},
   "source": [
    "# Graph Theory in Julia"
   ]
  },
  {
   "cell_type": "markdown",
   "id": "bf6b32b3-f11e-404c-bdcf-f8393bca7172",
   "metadata": {},
   "source": [
    "[![ ](https://markdown-videos-api.jorgenkh.no/url?url=https%3A%2F%2Fyoutu.be%2FDRyZDPDWQkM%3Flist%3DPLhQ2JMBcfAsjQzwp2j97uZjNOMi7Ed4CG)](https://youtu.be/DRyZDPDWQkM?list=PLhQ2JMBcfAsjQzwp2j97uZjNOMi7Ed4CG)"
   ]
  },
  {
   "cell_type": "code",
   "execution_count": null,
   "id": "fbbcbd2a-5d7b-46c7-8262-e898ecb5ac63",
   "metadata": {},
   "outputs": [],
   "source": [
    "mkdir(\"08x08\")"
   ]
  },
  {
   "cell_type": "code",
   "execution_count": null,
   "id": "7ecd8a08-724b-43d7-a4dc-9d65b41cbfdd",
   "metadata": {},
   "outputs": [],
   "source": [
    "cd(\"08x08\")"
   ]
  },
  {
   "cell_type": "code",
   "execution_count": null,
   "id": "6d006397-e4ef-464a-8e86-0803ac511a47",
   "metadata": {},
   "outputs": [],
   "source": [
    "pwd()"
   ]
  },
  {
   "cell_type": "code",
   "execution_count": null,
   "id": "fb501cc2-c55e-45a3-9bfa-891b62ef6d6b",
   "metadata": {},
   "outputs": [],
   "source": [
    "import Pkg"
   ]
  },
  {
   "cell_type": "code",
   "execution_count": null,
   "id": "45b02150-9fcb-4355-ad90-75cac2f4532d",
   "metadata": {},
   "outputs": [],
   "source": [
    "# activate the environment\n",
    "Pkg.activate(\".\")"
   ]
  },
  {
   "cell_type": "code",
   "execution_count": null,
   "id": "ac9b8e86-9edb-4751-a06b-c4f2145af27a",
   "metadata": {},
   "outputs": [],
   "source": [
    "# add packages\n",
    "Pkg.add([\"Graphs\", \"SimpleWeightedGraphs\", \"GraphRecipes\", \"Plots\"])"
   ]
  },
  {
   "cell_type": "markdown",
   "id": "a3853221-779b-407a-a3ac-6b0861b3bea1",
   "metadata": {},
   "source": [
    "### 👉 undirected graphs"
   ]
  },
  {
   "cell_type": "code",
   "execution_count": null,
   "id": "6a28f561-017b-4ef2-aef1-6860b054867d",
   "metadata": {},
   "outputs": [],
   "source": [
    "using Graphs, GraphRecipes, Plots"
   ]
  },
  {
   "cell_type": "code",
   "execution_count": null,
   "id": "69b5e02b-08ea-4dd4-b717-4a5af2afdfcb",
   "metadata": {},
   "outputs": [],
   "source": [
    "# create a graph (automatic)\n",
    "g1 = Graph(3, 2)"
   ]
  },
  {
   "cell_type": "code",
   "execution_count": null,
   "id": "adf653fa-9b7b-4a90-9fdd-fbb8151e6658",
   "metadata": {},
   "outputs": [],
   "source": [
    "# draw the graph\n",
    "graphplot(g1)"
   ]
  },
  {
   "cell_type": "code",
   "execution_count": null,
   "id": "b466ca0c-e8c1-4d9a-94fb-b711d42a8ca5",
   "metadata": {},
   "outputs": [],
   "source": [
    "# label edges\n",
    "edgelabels = Dict(\n",
    "    (1, 2) => 1,\n",
    "    (1, 3) => 2\n",
    ")"
   ]
  },
  {
   "cell_type": "code",
   "execution_count": null,
   "id": "26db818f-957b-4668-93cb-21296852245d",
   "metadata": {},
   "outputs": [],
   "source": [
    "# custom view function\n",
    "function viewgraph(g)\n",
    "    graphplot(g,\n",
    "        #nodes\n",
    "        names = 1:nv(g),\n",
    "        fontsize = 10,\n",
    "        nodeshape = :circle,\n",
    "        markersize = 0.15,\n",
    "        markerstrokewidth = 2,\n",
    "        #edges\n",
    "        edgelabel = edgelabels,\n",
    "        linewidth = 2,\n",
    "        curves = false\n",
    "    )\n",
    "end"
   ]
  },
  {
   "cell_type": "code",
   "execution_count": null,
   "id": "795581b1-cf31-4348-a41e-5829efa6b4ee",
   "metadata": {},
   "outputs": [],
   "source": [
    "p1 = viewgraph(g1)"
   ]
  },
  {
   "cell_type": "code",
   "execution_count": null,
   "id": "65cdcfff-1f23-44d4-a3ce-75fe7be1aad6",
   "metadata": {},
   "outputs": [],
   "source": [
    "# create a graph (manual)\n",
    "g2 = Graph()"
   ]
  },
  {
   "cell_type": "code",
   "execution_count": null,
   "id": "a3a31c46-af62-4c3b-9a4d-263a0af1721f",
   "metadata": {},
   "outputs": [],
   "source": [
    "# add 3 vertices (nodes)\n",
    "add_vertices!(g2, 3)"
   ]
  },
  {
   "cell_type": "code",
   "execution_count": null,
   "id": "2415efb0-0212-4ff7-bacf-c13c1652adca",
   "metadata": {},
   "outputs": [],
   "source": [
    "# connect node1 and node2\n",
    "add_edge!(g2, 1, 2)"
   ]
  },
  {
   "cell_type": "code",
   "execution_count": null,
   "id": "fe16f84c-a2fd-4958-927a-c2504c05acba",
   "metadata": {},
   "outputs": [],
   "source": [
    "p2 = viewgraph(g2)"
   ]
  },
  {
   "cell_type": "code",
   "execution_count": null,
   "id": "759eb6ea-1d01-46d4-8735-f0dc2115062b",
   "metadata": {},
   "outputs": [],
   "source": [
    "# connect node1 and node3\n",
    "add_edge!(g2, 1, 3)"
   ]
  },
  {
   "cell_type": "code",
   "execution_count": null,
   "id": "e08a595a-28d6-42a4-a622-0a23b2d52b40",
   "metadata": {},
   "outputs": [],
   "source": [
    "viewgraph(g2)"
   ]
  },
  {
   "cell_type": "code",
   "execution_count": null,
   "id": "a716e114-b2e3-408d-a17d-cacb06bc7567",
   "metadata": {},
   "outputs": [],
   "source": [
    "# save graph\n",
    "savegraph(\"undirected_graph_g2.lgz\", g2)"
   ]
  },
  {
   "cell_type": "code",
   "execution_count": null,
   "id": "efc6f972-c81c-4468-9f5f-80f9a18b3d3f",
   "metadata": {},
   "outputs": [],
   "source": [
    "# load graph\n",
    "g3 = loadgraph(\"undirected_graph_g2.lgz\")"
   ]
  },
  {
   "cell_type": "code",
   "execution_count": null,
   "id": "59407576-f9ff-46f9-9141-400d19fcd6ee",
   "metadata": {},
   "outputs": [],
   "source": [
    "viewgraph(g3)"
   ]
  },
  {
   "cell_type": "markdown",
   "id": "4bd80aaf-c568-452e-a7f7-780e30c2d86d",
   "metadata": {},
   "source": [
    "### 👉 directed graphs"
   ]
  },
  {
   "cell_type": "code",
   "execution_count": null,
   "id": "42999a13-2aea-42e4-830a-e847033f5a25",
   "metadata": {},
   "outputs": [],
   "source": [
    "# create a directed graph (automatic)\n",
    "g1 = DiGraph(3, 2)"
   ]
  },
  {
   "cell_type": "code",
   "execution_count": null,
   "id": "c2a58624-8c9a-4098-9df9-f187b8c54ca3",
   "metadata": {},
   "outputs": [],
   "source": [
    "viewgraph(g1)"
   ]
  },
  {
   "cell_type": "code",
   "execution_count": null,
   "id": "55f3e903-7ce5-4617-8597-024c57a1de06",
   "metadata": {},
   "outputs": [],
   "source": [
    "# create a directed graph (manually)\n",
    "g2 = DiGraph()"
   ]
  },
  {
   "cell_type": "code",
   "execution_count": null,
   "id": "8795a216-10fd-4aa8-88d9-3b07eaa7ee4a",
   "metadata": {},
   "outputs": [],
   "source": [
    "# add vertices (nodes)\n",
    "add_vertices!(g2, 3)"
   ]
  },
  {
   "cell_type": "code",
   "execution_count": null,
   "id": "723d4fa5-2ca2-413b-a3d6-9470d2d0a8ac",
   "metadata": {},
   "outputs": [],
   "source": [
    "# add edges (connections)\n",
    "add_edge!(g2, 1, 3)\n",
    "add_edge!(g2, 2, 3)"
   ]
  },
  {
   "cell_type": "code",
   "execution_count": null,
   "id": "d5ed70d0-c92d-4c63-8eef-d7dc62f84ed1",
   "metadata": {},
   "outputs": [],
   "source": [
    "viewgraph(g2)"
   ]
  },
  {
   "cell_type": "code",
   "execution_count": null,
   "id": "3bae64c0-c354-497c-9b6d-776261f303bd",
   "metadata": {},
   "outputs": [],
   "source": [
    "# add edge\n",
    "add_edge!(g2, 3, 2)"
   ]
  },
  {
   "cell_type": "code",
   "execution_count": null,
   "id": "81964a62-9ee2-469a-b555-8db362135758",
   "metadata": {},
   "outputs": [],
   "source": [
    "viewgraph(g2)"
   ]
  },
  {
   "cell_type": "code",
   "execution_count": null,
   "id": "02bd269e-b850-44ab-82da-f42a722d7ca9",
   "metadata": {},
   "outputs": [],
   "source": [
    "# remove edge\n",
    "rem_edge!(g2, 3, 2)"
   ]
  },
  {
   "cell_type": "code",
   "execution_count": null,
   "id": "812d13be-ced3-465b-b8d8-c3a7e27bf8c2",
   "metadata": {},
   "outputs": [],
   "source": [
    "# save graph\n",
    "savegraph(\"directed_graph_g2.lgz\", g2)"
   ]
  },
  {
   "cell_type": "markdown",
   "id": "cecd89c9-1e50-4d89-a47b-3284aac08265",
   "metadata": {},
   "source": [
    "### 👉 weighted graphs"
   ]
  },
  {
   "cell_type": "code",
   "execution_count": null,
   "id": "8522ee35-d665-43e4-a72e-1086229590c2",
   "metadata": {},
   "outputs": [],
   "source": [
    "using SimpleWeightedGraphs"
   ]
  },
  {
   "cell_type": "code",
   "execution_count": null,
   "id": "ff07800e-04f9-4488-aeab-285f84dc80bf",
   "metadata": {},
   "outputs": [],
   "source": [
    "using Random"
   ]
  },
  {
   "cell_type": "code",
   "execution_count": null,
   "id": "5410077a-c3bd-4790-8720-f15c9bd6748b",
   "metadata": {},
   "outputs": [],
   "source": [
    "Random.seed!(1)"
   ]
  },
  {
   "cell_type": "code",
   "execution_count": null,
   "id": "6bab2c2f-be9d-47b5-bd1d-07daa57b19bd",
   "metadata": {},
   "outputs": [],
   "source": [
    "# define sources and destinations\n",
    "sources = [1, 1, 2, 2, 3, 4, 4, 5, 5, 6, 7, 8]\n",
    "destinations = [2, 4, 3, 5, 6, 5, 7, 6, 8, 9, 8, 9]"
   ]
  },
  {
   "cell_type": "code",
   "execution_count": null,
   "id": "3d5a2db0-7af6-45ba-852e-b344cacd91a0",
   "metadata": {},
   "outputs": [],
   "source": [
    "# generate random weights\n",
    "weights = round.(rand(length(sources)), digits = 2)"
   ]
  },
  {
   "cell_type": "code",
   "execution_count": null,
   "id": "d3f1c76a-b034-454f-b8bf-df39fd50b554",
   "metadata": {},
   "outputs": [],
   "source": [
    "# contruct weighted graphs\n",
    "g = SimpleWeightedGraph(sources, destinations, weights)"
   ]
  },
  {
   "cell_type": "code",
   "execution_count": null,
   "id": "afdfe6d3-461f-40b6-aaac-5b71d6366001",
   "metadata": {},
   "outputs": [],
   "source": [
    "# define edge labels\n",
    "function makelabels(sources, destinations, weights)\n",
    "    edgelabels = Dict()\n",
    "\n",
    "    for i in 1:length(sources)\n",
    "        edgelabels[(sources[i], destinations[i])] = weights[i]\n",
    "    end\n",
    "\n",
    "    return edgelabels\n",
    "end"
   ]
  },
  {
   "cell_type": "code",
   "execution_count": null,
   "id": "6cdbc5fb-9946-4a1b-9f96-f84d6c00b463",
   "metadata": {},
   "outputs": [],
   "source": [
    "edgelabels = makelabels(sources, destinations, weights)"
   ]
  },
  {
   "cell_type": "code",
   "execution_count": null,
   "id": "d0d377e0-58ba-4cb2-9da1-a23e6fafb3de",
   "metadata": {},
   "outputs": [],
   "source": [
    "# create plotting function\n",
    "nodefillcolor = fill(:lightgray, length(sources))\n",
    "\n",
    "function viewgraph2(g, nodefillcolor, edgelabels)\n",
    "    graphplot(g,\n",
    "        # nodes\n",
    "        names = 1:nv(g),\n",
    "        fontsize = 10,\n",
    "        nodeshape = :circle,\n",
    "        markersize = 0.25,\n",
    "        markerstrokewidth = 2,\n",
    "        markercolor = nodefillcolor,\n",
    "        # edges\n",
    "        edgelabel = edgelabels,\n",
    "        linewidth = 2,\n",
    "        curves = false\n",
    "    )\n",
    "end"
   ]
  },
  {
   "cell_type": "code",
   "execution_count": null,
   "id": "5af0071b-df4f-492a-a912-22efd29d0089",
   "metadata": {},
   "outputs": [],
   "source": [
    "viewgraph2(g, nodefillcolor, edgelabels)"
   ]
  },
  {
   "cell_type": "markdown",
   "id": "1f77f6de-a8e9-415c-bf02-c038527d36b3",
   "metadata": {},
   "source": [
    "#### 💡 use analytic tools in Graphs.jl"
   ]
  },
  {
   "cell_type": "code",
   "execution_count": null,
   "id": "5b326feb-8e73-494d-8db6-4acdccfcb1dd",
   "metadata": {},
   "outputs": [],
   "source": [
    "# find the shortest path from node1 to node9\n",
    "path = enumerate_paths(dijkstra_shortest_paths(g, 1), 9)"
   ]
  },
  {
   "cell_type": "code",
   "execution_count": null,
   "id": "998b4136-2e42-4cab-848c-53128d52cb50",
   "metadata": {},
   "outputs": [],
   "source": [
    "# color the nodes on the shortest path\n",
    "nodefillcolor = [\n",
    "    node in path ? :red : :lightgray for node in 1:nv(g)\n",
    "]"
   ]
  },
  {
   "cell_type": "code",
   "execution_count": null,
   "id": "f78a551f-c993-4875-a56a-a9a65a497009",
   "metadata": {},
   "outputs": [],
   "source": [
    "viewgraph2(g, nodefillcolor, edgelabels)"
   ]
  },
  {
   "cell_type": "code",
   "execution_count": null,
   "id": "fb6946ad-d3f9-4e72-8eff-7740666180ca",
   "metadata": {},
   "outputs": [],
   "source": [
    "# create a simulation model\n",
    "function run_simulation(sources, destinations, weights)\n",
    "    edgelabels = makelabels(sources, destinations, weights)\n",
    "\n",
    "    # contruct weighted graphs\n",
    "    g = SimpleWeightedGraph(sources, destinations, weights)\n",
    "\n",
    "    # find the shortest path from node1 to node9\n",
    "    path = enumerate_paths(dijkstra_shortest_paths(g, 1), 9)\n",
    "\n",
    "    # color the nodes on the shortest path\n",
    "    nodefillcolor = [\n",
    "        node in path ? :red : :lightgray for node in 1:nv(g)\n",
    "    ]\n",
    "\n",
    "    return viewgraph2(g, nodefillcolor, edgelabels) \n",
    "end"
   ]
  },
  {
   "cell_type": "code",
   "execution_count": null,
   "id": "4fad3e26-d6f2-4f4f-a1a1-b0f0df19a84d",
   "metadata": {},
   "outputs": [],
   "source": [
    "# re-run this cell several times\n",
    "\n",
    "weights = round.(rand(length(sources)), digits = 2)\n",
    "\n",
    "run_simulation(sources, destinations, weights) "
   ]
  },
  {
   "cell_type": "code",
   "execution_count": null,
   "id": "a37c0461-cef0-4708-9c94-36c766434377",
   "metadata": {},
   "outputs": [],
   "source": []
  }
 ],
 "metadata": {
  "kernelspec": {
   "display_name": "Julia 4cores 1.10.0",
   "language": "julia",
   "name": "julia-4cores-1.10"
  },
  "language_info": {
   "file_extension": ".jl",
   "mimetype": "application/julia",
   "name": "julia",
   "version": "1.10.0"
  }
 },
 "nbformat": 4,
 "nbformat_minor": 5
}
