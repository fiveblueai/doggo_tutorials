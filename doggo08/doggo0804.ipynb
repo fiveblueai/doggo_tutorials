{
 "cells": [
  {
   "cell_type": "markdown",
   "id": "a8055f53-0d7e-42e3-b02f-0a28c27451c9",
   "metadata": {},
   "source": [
    "# Julia Multi-Processing"
   ]
  },
  {
   "cell_type": "markdown",
   "id": "a8ec5a25-fff3-49ad-8b94-699f06a4be9d",
   "metadata": {},
   "source": [
    "[![ ](https://markdown-videos-api.jorgenkh.no/url?url=https%3A%2F%2Fyoutu.be%2FuKdpY6Je6Oc%3Flist%3DPLhQ2JMBcfAsjQzwp2j97uZjNOMi7Ed4CG)](https://youtu.be/uKdpY6Je6Oc?list=PLhQ2JMBcfAsjQzwp2j97uZjNOMi7Ed4CG)"
   ]
  },
  {
   "cell_type": "markdown",
   "id": "2b6a7ffc-8ae5-4b89-9f58-8b323d4dbda9",
   "metadata": {},
   "source": [
    "### 👉 single-process vs multi-process"
   ]
  },
  {
   "cell_type": "code",
   "execution_count": null,
   "id": "06577d9e-3bf2-4048-bb46-9aaebba12d64",
   "metadata": {},
   "outputs": [],
   "source": [
    "using Distributed"
   ]
  },
  {
   "cell_type": "code",
   "execution_count": null,
   "id": "47eed655-e457-4ea5-b35e-d0609ab6f611",
   "metadata": {},
   "outputs": [],
   "source": [
    "addprocs(10)"
   ]
  },
  {
   "cell_type": "code",
   "execution_count": null,
   "id": "ac9da4f1-cb3d-4924-b94d-411c6ef452a2",
   "metadata": {},
   "outputs": [],
   "source": [
    "procs()"
   ]
  },
  {
   "cell_type": "code",
   "execution_count": null,
   "id": "0cd20c14-6f89-46e3-9c4b-267744367002",
   "metadata": {},
   "outputs": [],
   "source": [
    "# single-process\n",
    "# Re-run this cell several times\n",
    "\n",
    "@time for i in 2:nprocs()\n",
    "    sleep(1)\n",
    "end"
   ]
  },
  {
   "cell_type": "code",
   "execution_count": null,
   "id": "3738527d-86ea-4c1c-905c-2ca92ad92a4e",
   "metadata": {},
   "outputs": [],
   "source": [
    "# multi-process\n",
    "# Re-run this cell several times\n",
    "\n",
    "@time @sync for i in 2:nprocs()\n",
    "    @spawnat i sleep(1)\n",
    "end"
   ]
  },
  {
   "cell_type": "markdown",
   "id": "366040f1-9a30-4866-83d0-6751c0221ed3",
   "metadata": {},
   "source": [
    "🚩 multi-processing is 10 times faster but uses more memory"
   ]
  },
  {
   "cell_type": "markdown",
   "id": "23a54b01-869d-489f-94bf-65aeac59fe42",
   "metadata": {},
   "source": [
    "#### another example"
   ]
  },
  {
   "cell_type": "code",
   "execution_count": null,
   "id": "8db69dbc-21f0-4681-adb4-139b4bf720f5",
   "metadata": {},
   "outputs": [],
   "source": [
    "# single-process\n",
    "# Re-run this cell several times\n",
    "\n",
    "@time for i in 2:nprocs()\n",
    "    println(\"Hello, World!\")\n",
    "end"
   ]
  },
  {
   "cell_type": "code",
   "execution_count": null,
   "id": "52301e6c-a7c3-428d-ac43-7d54aa24f6c4",
   "metadata": {},
   "outputs": [],
   "source": [
    "# multi-process\n",
    "# Re-run this cell several times\n",
    "\n",
    "@time @sync for i in 2:nprocs()\n",
    "    @spawnat i println(\"Hello, World!\")\n",
    "end"
   ]
  },
  {
   "cell_type": "markdown",
   "id": "d062e854-71f1-4f2f-b3d2-68e4778b695d",
   "metadata": {},
   "source": [
    "🚩 in this example, multi-processing is slower than single-processing !!!"
   ]
  },
  {
   "cell_type": "code",
   "execution_count": null,
   "id": "29d10e31-2f5d-4126-938f-626212e5ea13",
   "metadata": {},
   "outputs": [],
   "source": [
    "# removing (killing) the created procs \n",
    "\n",
    "rmprocs(procs()[2:end], waitfor=0)"
   ]
  },
  {
   "cell_type": "code",
   "execution_count": null,
   "id": "5a7f21ca-475f-4985-98a2-796871f884de",
   "metadata": {},
   "outputs": [],
   "source": [
    "procs()"
   ]
  },
  {
   "cell_type": "markdown",
   "id": "d08cc444-c6cb-42ea-b0f9-bf385f04e95d",
   "metadata": {},
   "source": [
    "### <font color=\"red\"> !!! RESTART THE KERNEL NOW !!! </font>\n",
    "------------------------"
   ]
  },
  {
   "cell_type": "markdown",
   "id": "997364f8-6c93-4121-ac7d-13d50d901cbb",
   "metadata": {},
   "source": [
    "## 🔖 cheatsheet"
   ]
  },
  {
   "cell_type": "code",
   "execution_count": null,
   "id": "3a652345-f7e5-44ec-ad24-bb9ec6ad11b7",
   "metadata": {},
   "outputs": [],
   "source": [
    "import Pkg"
   ]
  },
  {
   "cell_type": "code",
   "execution_count": null,
   "id": "6da7e2fa-948b-403a-81b6-5fe4475a63ce",
   "metadata": {},
   "outputs": [],
   "source": [
    "# make a new directory\n",
    "\n",
    "mkdir(\"08x04\")"
   ]
  },
  {
   "cell_type": "code",
   "execution_count": null,
   "id": "bbaaebe3-43ca-4445-a1a2-f557144441e4",
   "metadata": {},
   "outputs": [],
   "source": [
    "# activate the environment\n",
    "\n",
    "Pkg.activate(\"08x04\") "
   ]
  },
  {
   "cell_type": "code",
   "execution_count": null,
   "id": "c5f37766-b0cc-49f3-b3f0-03cadd0778d9",
   "metadata": {},
   "outputs": [],
   "source": [
    "# change the working directory\n",
    "\n",
    "cd(\"08x04\")"
   ]
  },
  {
   "cell_type": "code",
   "execution_count": null,
   "id": "29777dd5-32eb-4187-9077-d7539c18fc1d",
   "metadata": {},
   "outputs": [],
   "source": [
    "# check the current directory\n",
    "\n",
    "pwd()"
   ]
  },
  {
   "cell_type": "code",
   "execution_count": null,
   "id": "6bfbff40-6164-4698-a7c4-9b6a05e3db49",
   "metadata": {},
   "outputs": [],
   "source": [
    "# add packages to the new environment\n",
    "\n",
    "Pkg.add(\"Plots\")"
   ]
  },
  {
   "cell_type": "code",
   "execution_count": null,
   "id": "0495749e-fe92-4f28-96ea-0cafbec46a6b",
   "metadata": {},
   "outputs": [],
   "source": [
    "using Distributed"
   ]
  },
  {
   "cell_type": "code",
   "execution_count": null,
   "id": "97205d2b-f0f3-4109-820c-9299f1a5224f",
   "metadata": {},
   "outputs": [],
   "source": [
    "# add 5 workers\n",
    "\n",
    "addprocs(5)"
   ]
  },
  {
   "cell_type": "code",
   "execution_count": null,
   "id": "6c796c1a-1230-42d8-ba30-e9445d3ff44d",
   "metadata": {},
   "outputs": [],
   "source": [
    "nprocs()"
   ]
  },
  {
   "cell_type": "code",
   "execution_count": null,
   "id": "90c8b488-9188-4949-b4fd-236e73b43aaf",
   "metadata": {},
   "outputs": [],
   "source": [
    "procs()"
   ]
  },
  {
   "cell_type": "code",
   "execution_count": null,
   "id": "c5030e00-88c0-45b3-b78c-7ace18c89ed7",
   "metadata": {},
   "outputs": [],
   "source": [
    "workers()"
   ]
  },
  {
   "cell_type": "code",
   "execution_count": null,
   "id": "11228a82-9b4f-46d0-8b8e-01d0c674b514",
   "metadata": {},
   "outputs": [],
   "source": [
    "# remove (kill) a proccess (worker)\n",
    "\n",
    "rmprocs(6)"
   ]
  },
  {
   "cell_type": "code",
   "execution_count": null,
   "id": "77c94c64-81da-40f1-92f6-d8714a1eaef4",
   "metadata": {},
   "outputs": [],
   "source": [
    "procs()"
   ]
  },
  {
   "cell_type": "code",
   "execution_count": null,
   "id": "431f715e-00ed-46f6-b900-8d69c4e6474a",
   "metadata": {},
   "outputs": [],
   "source": [
    "workers()"
   ]
  },
  {
   "cell_type": "code",
   "execution_count": null,
   "id": "5e2aecf3-a41d-444f-8099-f006a8e1673a",
   "metadata": {},
   "outputs": [],
   "source": [
    "# how to track workers (optional)\n",
    "\n",
    "w = workers()"
   ]
  },
  {
   "cell_type": "code",
   "execution_count": null,
   "id": "2e957295-cad8-4fa9-b301-13f9abfe0d11",
   "metadata": {},
   "outputs": [],
   "source": [
    "w[1]"
   ]
  },
  {
   "cell_type": "code",
   "execution_count": null,
   "id": "0e0bc3a4-aa4a-436e-9ac7-c2d9c0d0f89e",
   "metadata": {},
   "outputs": [],
   "source": [
    "# assign a work to a worker\n",
    "\n",
    "ans1 = @spawnat w[1] rand(3, 4)"
   ]
  },
  {
   "cell_type": "code",
   "execution_count": null,
   "id": "ceb8e370-d14d-4f26-a1e8-8c1bb67cf948",
   "metadata": {},
   "outputs": [],
   "source": [
    "# fetch a result from a worker\n",
    "\n",
    "fetch(ans1)"
   ]
  },
  {
   "cell_type": "code",
   "execution_count": null,
   "id": "49afe036-9350-4265-bc0c-f9dbdd54568f",
   "metadata": {},
   "outputs": [],
   "source": [
    "# assign a task to any available worker\n",
    "\n",
    "ans2 = @spawnat :any sum(1:100)"
   ]
  },
  {
   "cell_type": "code",
   "execution_count": null,
   "id": "18f947d6-9a5b-4402-a9f0-84eb28b9e2f9",
   "metadata": {},
   "outputs": [],
   "source": [
    "fetch(ans2)"
   ]
  },
  {
   "cell_type": "markdown",
   "id": "2b9bf233-0443-4307-8bcb-22c65c24f049",
   "metadata": {},
   "source": [
    "#### 💡 combine @spawnat and fetch()"
   ]
  },
  {
   "cell_type": "code",
   "execution_count": null,
   "id": "21152715-5fbb-4b71-8f92-8375b8da0631",
   "metadata": {},
   "outputs": [],
   "source": [
    "ans3 = @spawnat w[2] 3.14"
   ]
  },
  {
   "cell_type": "code",
   "execution_count": null,
   "id": "3d154af3-6420-4f6e-ad7d-3dbf3f9e2512",
   "metadata": {},
   "outputs": [],
   "source": [
    "fetch(ans3)"
   ]
  },
  {
   "cell_type": "code",
   "execution_count": null,
   "id": "61af818d-e748-40ec-b325-5953fda48431",
   "metadata": {},
   "outputs": [],
   "source": [
    "ans4 = @spawnat w[3] 1 + fetch(ans3)"
   ]
  },
  {
   "cell_type": "code",
   "execution_count": null,
   "id": "8d19e09a-bd3e-4b9e-8136-c80647bb7c57",
   "metadata": {},
   "outputs": [],
   "source": [
    "fetch(ans4)"
   ]
  },
  {
   "cell_type": "code",
   "execution_count": null,
   "id": "ec619ab2-af93-425a-94c4-b8751b7688d2",
   "metadata": {},
   "outputs": [],
   "source": [
    "# add standard library to all workers\n",
    "\n",
    "@everywhere using Statistics"
   ]
  },
  {
   "cell_type": "code",
   "execution_count": null,
   "id": "c99f82af-aceb-4045-8b10-d823e355f55e",
   "metadata": {},
   "outputs": [],
   "source": [
    "ans5 = @spawnat w[4] mean(rand(100))"
   ]
  },
  {
   "cell_type": "code",
   "execution_count": null,
   "id": "851c9403-1c46-427d-840a-e093a5b3de89",
   "metadata": {},
   "outputs": [],
   "source": [
    "fetch(ans5)"
   ]
  },
  {
   "cell_type": "code",
   "execution_count": null,
   "id": "77b7c88b-a1ad-4558-976e-cded5149cc5a",
   "metadata": {},
   "outputs": [],
   "source": [
    "# add standard library to a specific worker\n",
    "\n",
    "@everywhere w[1] using LinearAlgebra"
   ]
  },
  {
   "cell_type": "code",
   "execution_count": null,
   "id": "b92f9992-c661-45b8-9d94-4bfab205a9e7",
   "metadata": {},
   "outputs": [],
   "source": [
    "ans6 = @spawnat w[1] axpy!(fetch(ans3), ones(10), ones(10))"
   ]
  },
  {
   "cell_type": "code",
   "execution_count": null,
   "id": "8ae37914-a794-44ba-a16e-f1190ae2c2b9",
   "metadata": {},
   "outputs": [],
   "source": [
    "fetch(ans6)"
   ]
  },
  {
   "cell_type": "code",
   "execution_count": null,
   "id": "88138022-c5a5-43f7-a9b1-a0aea3f9cf35",
   "metadata": {},
   "outputs": [],
   "source": [
    "ans7 = @spawnat w[2] axpy!(fetch(ans3), ones(10), ones(10))"
   ]
  },
  {
   "cell_type": "code",
   "execution_count": null,
   "id": "683247e4-f3f9-4776-91ec-3dd60c1d8fd0",
   "metadata": {},
   "outputs": [],
   "source": [
    "fetch(ans7)"
   ]
  },
  {
   "cell_type": "markdown",
   "id": "4fe4fc3c-c0ec-41df-b135-1f5551b11642",
   "metadata": {},
   "source": [
    "##### 🚩🚩🚩 only w[1] can use LinearAlgebra functions !!!"
   ]
  },
  {
   "cell_type": "markdown",
   "id": "9b01c621-c297-42dd-b46c-8496529fb245",
   "metadata": {},
   "source": [
    "#### 💡 use SharedArrays"
   ]
  },
  {
   "cell_type": "code",
   "execution_count": null,
   "id": "9ead4ecd-53a8-4e9c-9d47-6eab109e1fc3",
   "metadata": {},
   "outputs": [],
   "source": [
    "using SharedArrays"
   ]
  },
  {
   "cell_type": "code",
   "execution_count": null,
   "id": "e3ad6095-3a1d-473b-9423-3478a21c7186",
   "metadata": {},
   "outputs": [],
   "source": [
    "data = SharedArray(rand(10))"
   ]
  },
  {
   "cell_type": "markdown",
   "id": "13197717-5951-43b8-937b-9ff43989df06",
   "metadata": {},
   "source": [
    "#### 💡 add external package to all workers"
   ]
  },
  {
   "cell_type": "code",
   "execution_count": null,
   "id": "547fa286-779c-4c68-9cd9-ae9433fbb0de",
   "metadata": {},
   "outputs": [],
   "source": [
    "@everywhere import Pkg"
   ]
  },
  {
   "cell_type": "code",
   "execution_count": null,
   "id": "6d10b47d-749b-4888-8048-f2b5811189e2",
   "metadata": {},
   "outputs": [],
   "source": [
    "# activate the environment for all the workers\n",
    "\n",
    "@everywhere Pkg.activate(\".\")"
   ]
  },
  {
   "cell_type": "code",
   "execution_count": null,
   "id": "53d763d7-069e-4abd-8bc5-39a9365a80bc",
   "metadata": {},
   "outputs": [],
   "source": [
    "@everywhere using Plots"
   ]
  },
  {
   "cell_type": "code",
   "execution_count": null,
   "id": "d9405e31-ae24-4112-83f1-9ce0a28a7f02",
   "metadata": {},
   "outputs": [],
   "source": [
    "ans8 = @spawnat w[3] plot(data)"
   ]
  },
  {
   "cell_type": "code",
   "execution_count": null,
   "id": "63d33d4b-8158-4eed-9ff8-fae386286265",
   "metadata": {},
   "outputs": [],
   "source": [
    "fetch(ans8)"
   ]
  },
  {
   "cell_type": "markdown",
   "id": "ccf6886c-2e5f-46ea-b120-d9aa988ee32a",
   "metadata": {},
   "source": [
    "#### 💡 how to use a module"
   ]
  },
  {
   "cell_type": "code",
   "execution_count": null,
   "id": "69a9ffb6-9c8e-4fe2-a8ac-5792b550ee19",
   "metadata": {},
   "outputs": [],
   "source": [
    "# create a module file\n",
    "\n",
    "write(\"ToyModule.jl\",\n",
    "\"module ToyModule\n",
    "\n",
    "export myfunc\n",
    "\n",
    "function myfunc()\n",
    "    println(\\\"Hello, World!\\\")\n",
    "    return 2.718\n",
    "end\n",
    "\n",
    "end\"\n",
    "    );"
   ]
  },
  {
   "cell_type": "code",
   "execution_count": null,
   "id": "b361eee3-b7e3-4952-aeb9-edaa1a02e337",
   "metadata": {},
   "outputs": [],
   "source": [
    "@everywhere include(\"ToyModule.jl\")"
   ]
  },
  {
   "cell_type": "code",
   "execution_count": null,
   "id": "09aa1690-f3fa-4ca1-8fdb-dac2cf1770e2",
   "metadata": {},
   "outputs": [],
   "source": [
    "using .ToyModule"
   ]
  },
  {
   "cell_type": "code",
   "execution_count": null,
   "id": "dc10f022-dce1-40b8-ab2d-5dd104c80cce",
   "metadata": {},
   "outputs": [],
   "source": [
    "ans9 = @spawnat w[4] ToyModule.myfunc()"
   ]
  },
  {
   "cell_type": "code",
   "execution_count": null,
   "id": "b50e5927-1bc3-4d35-a529-682c0a37d342",
   "metadata": {},
   "outputs": [],
   "source": [
    "fetch(ans9)"
   ]
  },
  {
   "cell_type": "code",
   "execution_count": null,
   "id": "5b3c2f5d-a0ba-4b2d-b13c-08ba25a97cb6",
   "metadata": {},
   "outputs": [],
   "source": [
    "# removing (killing) the created procs \n",
    "\n",
    "rmprocs(procs()[2:end], waitfor=0)"
   ]
  },
  {
   "cell_type": "code",
   "execution_count": null,
   "id": "8faa5052-6eca-483c-9346-28e903271566",
   "metadata": {},
   "outputs": [],
   "source": [
    "procs()"
   ]
  },
  {
   "cell_type": "markdown",
   "id": "a53e9d28-55aa-432e-90a2-1f2c58bb7e9d",
   "metadata": {},
   "source": [
    "### <font color=\"red\"> !!! RESTART THE KERNEL NOW !!! </font>\n",
    "------------------------"
   ]
  },
  {
   "cell_type": "markdown",
   "id": "69c1a028-1c85-4720-adc3-5980b09f0cee",
   "metadata": {},
   "source": [
    "## ⚙️ demo project"
   ]
  },
  {
   "cell_type": "code",
   "execution_count": null,
   "id": "4d0aaf68-be14-4ec5-9bdd-88ec3aea392d",
   "metadata": {},
   "outputs": [],
   "source": [
    "# change directory\n",
    "\n",
    "cd(\"08x04\")"
   ]
  },
  {
   "cell_type": "code",
   "execution_count": null,
   "id": "d814ac6b-ab12-472e-9b97-105584d94845",
   "metadata": {},
   "outputs": [],
   "source": [
    "# check the current directory\n",
    "\n",
    "pwd()"
   ]
  },
  {
   "cell_type": "code",
   "execution_count": null,
   "id": "795059da-d103-46dc-8946-8043897c23b6",
   "metadata": {},
   "outputs": [],
   "source": [
    "import Pkg"
   ]
  },
  {
   "cell_type": "code",
   "execution_count": null,
   "id": "192372fa-496c-4ef8-b3e1-1368e9c25e6a",
   "metadata": {},
   "outputs": [],
   "source": [
    "# activate the environment\n",
    "\n",
    "Pkg.activate(\".\")"
   ]
  },
  {
   "cell_type": "code",
   "execution_count": null,
   "id": "be5e2a8d-2280-4761-8959-311c0fbea2e1",
   "metadata": {},
   "outputs": [],
   "source": [
    "# create a module file\n",
    "\n",
    "write(\"MyFunctions.jl\",\n",
    "\"module MyFunctions\n",
    "    \n",
    "export task1, task2, task3\n",
    "    \n",
    "# tasks\n",
    "    \n",
    "function task1(data)\n",
    "    data * data\n",
    "end\n",
    "    \n",
    "function task2(data)\n",
    "    data / data\n",
    "end\n",
    "    \n",
    "function task3(data)\n",
    "    data \\\\ data\n",
    "end\n",
    "\n",
    "# print message\n",
    "\n",
    "println(\\\"MyFunctions loaded\\\")\n",
    "    \n",
    "end\"\n",
    "    );"
   ]
  },
  {
   "cell_type": "code",
   "execution_count": null,
   "id": "010ca55b-cc48-4941-9670-63e1d8f29383",
   "metadata": {},
   "outputs": [],
   "source": [
    "# add workers\n",
    "\n",
    "using Distributed\n",
    "\n",
    "addprocs(4)\n",
    "w = workers()"
   ]
  },
  {
   "cell_type": "code",
   "execution_count": null,
   "id": "9ae86cb6-6b96-4350-8dac-d9df53e4d703",
   "metadata": {},
   "outputs": [],
   "source": [
    "# generate random data\n",
    "\n",
    "using SharedArrays\n",
    "\n",
    "n = 1_000\n",
    "data = SharedMatrix(rand(n, n))\n",
    "x = data[: ,1]\n",
    "y = data[:, 2];"
   ]
  },
  {
   "cell_type": "code",
   "execution_count": null,
   "id": "4f14d5a2-25ec-450b-b12f-04c8e0342993",
   "metadata": {},
   "outputs": [],
   "source": [
    "# load module\n",
    "\n",
    "@everywhere include(\"MyFunctions.jl\")"
   ]
  },
  {
   "cell_type": "code",
   "execution_count": null,
   "id": "c9d33f3b-f0ed-4bb4-9a60-261009a250be",
   "metadata": {},
   "outputs": [],
   "source": [
    "using .MyFunctions"
   ]
  },
  {
   "cell_type": "code",
   "execution_count": null,
   "id": "33b40cf5-107f-464f-a841-a31b41e1d33a",
   "metadata": {},
   "outputs": [],
   "source": [
    "# load package\n",
    "\n",
    "@everywhere import Pkg"
   ]
  },
  {
   "cell_type": "code",
   "execution_count": null,
   "id": "118d2d21-ff7e-4ae6-aa47-129c79714f42",
   "metadata": {},
   "outputs": [],
   "source": [
    "# activate environment for all workers\n",
    "\n",
    "@everywhere Pkg.activate(\".\")"
   ]
  },
  {
   "cell_type": "code",
   "execution_count": null,
   "id": "12b3d28a-b4c8-4c6b-a22c-1f29d3ee3cfd",
   "metadata": {},
   "outputs": [],
   "source": [
    "@everywhere using Plots"
   ]
  },
  {
   "cell_type": "code",
   "execution_count": null,
   "id": "b917d4b0-f2c2-4538-9181-5326f8378950",
   "metadata": {},
   "outputs": [],
   "source": [
    "# launch tasks\n",
    "\n",
    "t1 = @spawnat w[1] MyFunctions.task1(data)\n",
    "t2 = @spawnat w[2] MyFunctions.task2(data)\n",
    "t3 = @spawnat w[3] MyFunctions.task3(data)"
   ]
  },
  {
   "cell_type": "code",
   "execution_count": null,
   "id": "e1aed28e-c6ac-4322-80af-661e235fee2d",
   "metadata": {},
   "outputs": [],
   "source": [
    "t4 = @spawnat w[4] scatter(\n",
    "    (x,y),\n",
    "    legend = false,\n",
    "    aspect_ratio = 1\n",
    ")"
   ]
  },
  {
   "cell_type": "code",
   "execution_count": null,
   "id": "4ca2d551-7ce8-4578-be5f-a0ae5b7a6c44",
   "metadata": {},
   "outputs": [],
   "source": [
    "# fetch results\n",
    "\n",
    "fetch(t1)\n",
    "fetch(t2)\n",
    "fetch(t3)\n",
    "fetch(t4)"
   ]
  },
  {
   "cell_type": "code",
   "execution_count": null,
   "id": "33bf81ed-d261-435f-be1c-02fcc03abd8b",
   "metadata": {},
   "outputs": [],
   "source": [
    "# removing (killing) the created procs \n",
    "\n",
    "rmprocs(procs()[2:end], waitfor=0)"
   ]
  },
  {
   "cell_type": "code",
   "execution_count": null,
   "id": "1b69eb10-5e4f-4237-ad29-4d3b8b609dc3",
   "metadata": {},
   "outputs": [],
   "source": [
    "procs()"
   ]
  },
  {
   "cell_type": "code",
   "execution_count": null,
   "id": "102719d6-3b4c-4b15-be80-e37bed031dc6",
   "metadata": {},
   "outputs": [],
   "source": []
  }
 ],
 "metadata": {
  "kernelspec": {
   "display_name": "Julia 1.10.0",
   "language": "julia",
   "name": "julia-1.10"
  },
  "language_info": {
   "file_extension": ".jl",
   "mimetype": "application/julia",
   "name": "julia",
   "version": "1.10.0"
  }
 },
 "nbformat": 4,
 "nbformat_minor": 5
}
