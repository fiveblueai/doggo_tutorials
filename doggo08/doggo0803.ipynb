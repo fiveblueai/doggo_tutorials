{
 "cells": [
  {
   "cell_type": "markdown",
   "id": "63c678a0-52af-476d-8c4d-653947b730fa",
   "metadata": {},
   "source": [
    "# Julia Multi-Threading "
   ]
  },
  {
   "cell_type": "markdown",
   "id": "1de60953-c0e1-4999-93ad-326e7dba393e",
   "metadata": {},
   "source": [
    "[![ ](https://markdown-videos-api.jorgenkh.no/url?url=https%3A%2F%2Fyoutu.be%2FkX6_iY_BtG8%3Fsi%3DQELqXGFHALzGIeGR)](https://youtu.be/kX6_iY_BtG8?si=QELqXGFHALzGIeGR)"
   ]
  },
  {
   "cell_type": "markdown",
   "id": "6ad36f9a-5787-4f60-95dc-788ec56c1232",
   "metadata": {},
   "source": [
    "### 👉 number of threads "
   ]
  },
  {
   "cell_type": "code",
   "execution_count": null,
   "id": "3026e46b-d124-4874-b5ee-662ee9ed0d54",
   "metadata": {},
   "outputs": [],
   "source": [
    "versioninfo()"
   ]
  },
  {
   "cell_type": "code",
   "execution_count": null,
   "id": "1b6c92d1-c18d-43d7-9187-6bff63b68f1d",
   "metadata": {},
   "outputs": [],
   "source": [
    "Threads.nthreads()"
   ]
  },
  {
   "cell_type": "markdown",
   "id": "22aa73a0-cf71-4154-a3bc-a14827360d7d",
   "metadata": {},
   "source": [
    "### 👉 creating a multi-thread kernel for jupyter"
   ]
  },
  {
   "cell_type": "code",
   "execution_count": null,
   "id": "909ccde8-36f4-43dc-8f67-5b78283649c4",
   "metadata": {},
   "outputs": [],
   "source": [
    "using IJulia"
   ]
  },
  {
   "cell_type": "code",
   "execution_count": null,
   "id": "3c8860a9-d554-4ff0-b76e-2de771cae219",
   "metadata": {},
   "outputs": [],
   "source": [
    "# Creating a new kernel where \"Julia Multi-Thread\" is the name \n",
    "# and \"4\" is the number of threads.\n",
    "# you can change the name and number of threads\n",
    "\n",
    "installkernel(\"Julia Multi-Thread\", env=Dict(\"JULIA_NUM_THREADS\"=>\"4\"))"
   ]
  },
  {
   "cell_type": "markdown",
   "id": "3662076e-59bb-4af4-bbdf-dfaddaf9e920",
   "metadata": {},
   "source": [
    "#### 💡 Refresh the page and change the kernel (Julia Multi-Thread)"
   ]
  },
  {
   "cell_type": "markdown",
   "id": "da687dd3-733f-45b9-bb11-cbbde9e8f5d9",
   "metadata": {},
   "source": [
    "### 👉 single-thread vs multi-thread"
   ]
  },
  {
   "cell_type": "code",
   "execution_count": null,
   "id": "f5f30380-2fd4-479e-9c98-4325d741d745",
   "metadata": {},
   "outputs": [],
   "source": [
    "# number of threads\n",
    "\n",
    "N = Threads.nthreads()"
   ]
  },
  {
   "cell_type": "code",
   "execution_count": null,
   "id": "0413e01e-33b7-43b7-8cd6-9339d23f0082",
   "metadata": {},
   "outputs": [],
   "source": [
    "# single-threaded\n",
    "\n",
    "for i in 1:N\n",
    "    println(\"i: \", i, \"\\t Thread ID: \", Threads.threadid())\n",
    "end"
   ]
  },
  {
   "cell_type": "code",
   "execution_count": null,
   "id": "6b58d1a7-98ff-466c-9613-ce94bf2dc341",
   "metadata": {},
   "outputs": [],
   "source": [
    "# multi-threaded\n",
    "\n",
    "Threads.@threads for i in 1:N\n",
    "    println(\"i: \", i, \"\\t Thread ID: \", Threads.threadid())\n",
    "end"
   ]
  },
  {
   "cell_type": "markdown",
   "id": "1217a282-340f-4751-88fb-a5249d3fbc5b",
   "metadata": {},
   "source": [
    "### 👉 data-race example"
   ]
  },
  {
   "cell_type": "code",
   "execution_count": null,
   "id": "53675255-2c13-4185-9d54-6a7c841b1944",
   "metadata": {},
   "outputs": [],
   "source": [
    "# creating a vector and calculating the sum\n",
    "\n",
    "n = 1_000_000\n",
    "myvector = collect(1:n)\n",
    "sum(myvector)"
   ]
  },
  {
   "cell_type": "code",
   "execution_count": null,
   "id": "b7c0ca8b-a45e-494b-a633-4832ed8d3825",
   "metadata": {},
   "outputs": [],
   "source": [
    "# single-threaded\n",
    "\n",
    "function multi_sum1(myvector)\n",
    "    temp = 0\n",
    "\n",
    "    for i in eachindex(myvector)\n",
    "        temp += myvector[i]\n",
    "    end\n",
    "\n",
    "    return temp\n",
    "end"
   ]
  },
  {
   "cell_type": "code",
   "execution_count": null,
   "id": "34328133-35ea-428f-a402-9aba2faa6e1d",
   "metadata": {},
   "outputs": [],
   "source": [
    "multi_sum1(myvector)"
   ]
  },
  {
   "cell_type": "code",
   "execution_count": null,
   "id": "a6e7ae23-943d-456a-9b59-31e0e55fedc7",
   "metadata": {},
   "outputs": [],
   "source": [
    "# multi-threaded\n",
    "\n",
    "function multi_sum2(myvector)\n",
    "    temp = 0\n",
    "\n",
    "    Threads.@threads for i in eachindex(myvector)\n",
    "        temp += myvector[i]\n",
    "    end\n",
    "\n",
    "    return temp\n",
    "end"
   ]
  },
  {
   "cell_type": "code",
   "execution_count": null,
   "id": "13c21c4f-4477-4d56-bffa-9fde08d35e13",
   "metadata": {},
   "outputs": [],
   "source": [
    "# re-run this cell several times and observe the output\n",
    "\n",
    "multi_sum2(myvector)"
   ]
  },
  {
   "cell_type": "markdown",
   "id": "9c593eb4-e3bb-406e-beb4-23b2147a0903",
   "metadata": {},
   "source": [
    "🚩🚩🚩 The multi_sum2() function gives wrong values "
   ]
  },
  {
   "cell_type": "code",
   "execution_count": null,
   "id": "452876e8-99f0-43ac-b611-cca822430b4a",
   "metadata": {},
   "outputs": [],
   "source": [
    "# multi-threaded without data-race test function\n",
    "\n",
    "function multi_sum3test(myvector)\n",
    "    temp = zeros(Int, Threads.nthreads())\n",
    "\n",
    "    Threads.@threads for i in eachindex(myvector)\n",
    "        temp[Threads.threadid()] += myvector[i]\n",
    "    end\n",
    "\n",
    "    for i in eachindex(temp)\n",
    "        println(i, \"\\t = \", temp[i])\n",
    "    end\n",
    "\n",
    "    println()\n",
    "    println(\"The sum is \", sum(temp))\n",
    "end"
   ]
  },
  {
   "cell_type": "code",
   "execution_count": null,
   "id": "3d24a683-5b0a-45b0-a5bb-d43344917ac4",
   "metadata": {},
   "outputs": [],
   "source": [
    "multi_sum3test(myvector)"
   ]
  },
  {
   "cell_type": "code",
   "execution_count": null,
   "id": "2d0b199a-5119-427d-9801-5b495052ccac",
   "metadata": {},
   "outputs": [],
   "source": [
    "# multi-threaded without data-race\n",
    "\n",
    "function multi_sum3(myvector)\n",
    "    temp = zeros(Int, Threads.nthreads())\n",
    "\n",
    "    Threads.@threads for i in eachindex(myvector)\n",
    "        temp[Threads.threadid()] += myvector[i]\n",
    "    end\n",
    "\n",
    "    return sum(temp)\n",
    "end"
   ]
  },
  {
   "cell_type": "code",
   "execution_count": null,
   "id": "c841c7e4-06c4-4f1b-82b8-19d5e4010be9",
   "metadata": {},
   "outputs": [],
   "source": [
    "multi_sum3(myvector)"
   ]
  },
  {
   "cell_type": "markdown",
   "id": "169e27f7-7974-4b3d-9514-26c3c35b5429",
   "metadata": {},
   "source": [
    "### speed test"
   ]
  },
  {
   "cell_type": "code",
   "execution_count": null,
   "id": "8bced939-6f9e-4731-89f9-732215eb7a3a",
   "metadata": {},
   "outputs": [],
   "source": [
    "# Re-run the cell several times\n",
    "\n",
    "@time multi_sum1(myvector);"
   ]
  },
  {
   "cell_type": "code",
   "execution_count": null,
   "id": "ef66feb3-af55-4d63-88be-a6e4a1a1e64a",
   "metadata": {},
   "outputs": [],
   "source": [
    "# Re-run the cell several times\n",
    "\n",
    "@time multi_sum3(myvector);"
   ]
  },
  {
   "cell_type": "code",
   "execution_count": null,
   "id": "cbf29253-8acf-41ec-873b-1eeaa4517142",
   "metadata": {},
   "outputs": [],
   "source": [
    "# Re-run the cell several times\n",
    "\n",
    "@time sum(myvector);"
   ]
  },
  {
   "cell_type": "markdown",
   "id": "e772cc32-0104-4920-92a2-6f243c08188a",
   "metadata": {},
   "source": [
    "### speed test with a larger vector"
   ]
  },
  {
   "cell_type": "code",
   "execution_count": null,
   "id": "b0d5bad1-6808-48bf-9cd3-a0b7a5852168",
   "metadata": {},
   "outputs": [],
   "source": [
    "# trying with a larger vector\n",
    "\n",
    "n = 100_000_000\n",
    "myvector = collect(1:n);"
   ]
  },
  {
   "cell_type": "code",
   "execution_count": null,
   "id": "59359e24-4173-47f6-b670-94b2909949f6",
   "metadata": {},
   "outputs": [],
   "source": [
    "# Re-run the cell several times\n",
    "\n",
    "@time multi_sum3(myvector);"
   ]
  },
  {
   "cell_type": "code",
   "execution_count": null,
   "id": "293cfd2d-6226-41e5-b76c-b70257e0f393",
   "metadata": {},
   "outputs": [],
   "source": [
    "# Re-run the cell several times\n",
    "\n",
    "@time sum(myvector);"
   ]
  },
  {
   "cell_type": "markdown",
   "id": "40c26bd5-6bbd-4d3d-b21b-058a43ee4e94",
   "metadata": {},
   "source": [
    "### 👉 multi-threaded axpy()\n",
    "\n",
    "use multi-threading, 32-bit, in-place"
   ]
  },
  {
   "cell_type": "code",
   "execution_count": null,
   "id": "01f2d8f5-4e17-4a1c-a0b4-64c05a2e7b20",
   "metadata": {},
   "outputs": [],
   "source": [
    "# 32-bit constants\n",
    "\n",
    "const m::Int32 = 100_000\n",
    "const a::Float32 = 2.718"
   ]
  },
  {
   "cell_type": "code",
   "execution_count": null,
   "id": "5d208f37-e94e-4c6c-8ac3-88dcf9cb1801",
   "metadata": {},
   "outputs": [],
   "source": [
    "# define multi-threaded axpy() function\n",
    "\n",
    "function multi_axpy!(a, x, y)\n",
    "    Threads.@threads for i in eachindex(x)\n",
    "        y[i] = a*x[i] + y[i]\n",
    "        # @inbounds y[i] = a*x[i] + y[i]\n",
    "    end\n",
    "\n",
    "    return y\n",
    "end"
   ]
  },
  {
   "cell_type": "code",
   "execution_count": null,
   "id": "caa04738-522b-45ba-82c9-9f981023a076",
   "metadata": {},
   "outputs": [],
   "source": [
    "using Random"
   ]
  },
  {
   "cell_type": "code",
   "execution_count": null,
   "id": "c38381b0-3b9f-412c-a744-b7c199b13645",
   "metadata": {},
   "outputs": [],
   "source": [
    "# Re-run the cell several times\n",
    "\n",
    "Random.seed!(1)\n",
    "\n",
    "x = rand(Float32, m)\n",
    "y = rand(Float32, m)\n",
    "\n",
    "@time multi_axpy!(a, x, y);"
   ]
  },
  {
   "cell_type": "code",
   "execution_count": null,
   "id": "2e7f9843-22eb-4805-82f3-42bceb2fcb51",
   "metadata": {},
   "outputs": [],
   "source": []
  }
 ],
 "metadata": {
  "kernelspec": {
   "display_name": "Julia 4cores 1.10.0",
   "language": "julia",
   "name": "julia-4cores-1.10"
  },
  "language_info": {
   "file_extension": ".jl",
   "mimetype": "application/julia",
   "name": "julia",
   "version": "1.10.0"
  }
 },
 "nbformat": 4,
 "nbformat_minor": 5
}
