{
 "cells": [
  {
   "cell_type": "markdown",
   "id": "0c907790-8649-4510-b081-206a464e773b",
   "metadata": {},
   "source": [
    "# Julia Performance Tips and Tools"
   ]
  },
  {
   "cell_type": "markdown",
   "id": "6111b06c-546d-431b-bb5c-1652fcbda91d",
   "metadata": {},
   "source": [
    "https://youtu.be/gzvn-hdlkUg?list=PLhQ2JMBcfAsjQzwp2j97uZjNOMi7Ed4CG"
   ]
  },
  {
   "cell_type": "code",
   "execution_count": null,
   "id": "372891c6-325c-4e4c-ad04-de5554e938cd",
   "metadata": {},
   "outputs": [],
   "source": [
    "# define variables\n",
    "\n",
    "n = 100_000\n",
    "a = 2.718"
   ]
  },
  {
   "cell_type": "code",
   "execution_count": null,
   "id": "0b45a9b2-3d23-4ec7-82ad-03f54b02d4bb",
   "metadata": {},
   "outputs": [],
   "source": [
    "using Random"
   ]
  },
  {
   "cell_type": "code",
   "execution_count": null,
   "id": "8da034c8-22b5-4ec7-a6eb-7c885157b838",
   "metadata": {},
   "outputs": [],
   "source": [
    "Random.seed!(1)"
   ]
  },
  {
   "cell_type": "code",
   "execution_count": null,
   "id": "5c10b2b1-2cc3-427c-ad0e-4a250dfff967",
   "metadata": {},
   "outputs": [],
   "source": [
    "x = rand(n);\n",
    "y = rand(n);"
   ]
  },
  {
   "cell_type": "code",
   "execution_count": null,
   "id": "b7490370-4b9d-472c-bd44-4fb4e690f42e",
   "metadata": {},
   "outputs": [],
   "source": [
    "z = [] # empty array"
   ]
  },
  {
   "cell_type": "code",
   "execution_count": null,
   "id": "74e2088b-c653-4a82-81c8-2bb5c48c1b1f",
   "metadata": {},
   "outputs": [],
   "source": [
    "# Re-run the cell 3 times\n",
    "\n",
    "@time for i in 1:n\n",
    "    temp = a*x[i] + y[i]\n",
    "    push!(z, temp)\n",
    "end"
   ]
  },
  {
   "cell_type": "raw",
   "id": "b003a790-34b4-42ad-b241-93f69d107cbd",
   "metadata": {},
   "source": [
    "  0.031207 seconds (698.98 k allocations: 14.462 MiB)"
   ]
  },
  {
   "cell_type": "code",
   "execution_count": null,
   "id": "c0891fae-5737-412b-998c-df55be54cb68",
   "metadata": {},
   "outputs": [],
   "source": [
    "# define function\n",
    "\n",
    "function axpy(a, x, y)\n",
    "    N = length(x)\n",
    "    z = [] # empty array\n",
    "\n",
    "    for i = 1:N\n",
    "        temp = a*x[i] + y[i]\n",
    "        push!(z, temp)\n",
    "    end\n",
    "\n",
    "    return z\n",
    "end"
   ]
  },
  {
   "cell_type": "code",
   "execution_count": null,
   "id": "9e0b6933-4b39-44c2-8d62-0fea200ac139",
   "metadata": {},
   "outputs": [],
   "source": [
    "# Re-run the cell 3 times\n",
    "\n",
    "@time axpy(a, x, y);"
   ]
  },
  {
   "cell_type": "raw",
   "id": "5e7f5d4f-4b6c-4b4b-b188-f8550c9e5e6c",
   "metadata": {},
   "source": [
    "  0.003000 seconds (100.01 k allocations: 3.353 MiB)"
   ]
  },
  {
   "cell_type": "markdown",
   "id": "c69a3e73-a990-4934-ba36-7036e716f61c",
   "metadata": {},
   "source": [
    "### 👉 using built-in functions "
   ]
  },
  {
   "cell_type": "code",
   "execution_count": null,
   "id": "4135d8e3-69d7-4e0f-afac-075018ed5549",
   "metadata": {},
   "outputs": [],
   "source": [
    "@which a*x"
   ]
  },
  {
   "cell_type": "code",
   "execution_count": null,
   "id": "61280d89-46a4-4567-a505-3bc9ccb6efc5",
   "metadata": {},
   "outputs": [],
   "source": [
    "@which x+y"
   ]
  },
  {
   "cell_type": "code",
   "execution_count": null,
   "id": "71409424-69b1-4e07-b350-7eb17949950f",
   "metadata": {},
   "outputs": [],
   "source": [
    "# Re-run the cell 3 times\n",
    "\n",
    "@time z = a*x + y ;"
   ]
  },
  {
   "cell_type": "raw",
   "id": "5b5da55c-c4a2-407b-b086-940930fd278e",
   "metadata": {},
   "source": [
    "  0.001245 seconds (4 allocations: 1.526 MiB)"
   ]
  },
  {
   "cell_type": "markdown",
   "id": "109eedb6-ce95-4312-aa5e-226c06636339",
   "metadata": {},
   "source": [
    "### 👉 broadcasting"
   ]
  },
  {
   "cell_type": "code",
   "execution_count": null,
   "id": "02054115-d42c-4ac1-acbd-baad0201b5b1",
   "metadata": {},
   "outputs": [],
   "source": [
    "# Re-run the cell 3 times\n",
    "\n",
    "@time z = a.*x .+ y ;"
   ]
  },
  {
   "cell_type": "raw",
   "id": "1a3879ff-db83-4662-9119-bd8a9ab134ce",
   "metadata": {},
   "source": [
    "  0.000662 seconds (4 allocations: 781.359 KiB)"
   ]
  },
  {
   "cell_type": "markdown",
   "id": "6b69c643-a839-4fb8-ba2a-63dad8712370",
   "metadata": {},
   "source": [
    "### 👉 32-bit "
   ]
  },
  {
   "cell_type": "markdown",
   "id": "67015910-2e4d-4df4-8e61-518f83522324",
   "metadata": {},
   "source": [
    "💡 Faster and more memory efficient but has a lower precision. "
   ]
  },
  {
   "cell_type": "code",
   "execution_count": null,
   "id": "11ac81c7-db54-4057-a805-e923d6b0ae55",
   "metadata": {},
   "outputs": [],
   "source": [
    "const m::Int32 = 100_000\n",
    "const b::Float32 = 2.718"
   ]
  },
  {
   "cell_type": "code",
   "execution_count": null,
   "id": "507ac3d5-b0ac-4c8a-9bb4-174db52c94d4",
   "metadata": {},
   "outputs": [],
   "source": [
    "X = rand(Float32, m);\n",
    "Y = rand(Float32, m);"
   ]
  },
  {
   "cell_type": "code",
   "execution_count": null,
   "id": "b9fe36e7-41a8-4439-8c61-841917a91e17",
   "metadata": {},
   "outputs": [],
   "source": [
    "# Re-run the cell 3 times\n",
    "\n",
    "@time z = b.*X .+ Y ;"
   ]
  },
  {
   "cell_type": "raw",
   "id": "a3ef3b5e-69e7-495a-a8c1-afdc4bd1f1d8",
   "metadata": {},
   "source": [
    "  0.000391 seconds (4 allocations: 390.734 KiB)"
   ]
  },
  {
   "cell_type": "markdown",
   "id": "d54be828-64d5-479e-a4de-ec5ba712dcbd",
   "metadata": {},
   "source": [
    "### 👉 using LinearAlgebra package"
   ]
  },
  {
   "cell_type": "code",
   "execution_count": null,
   "id": "1414d8b8-903f-4448-a76d-ef5ea8a3abe0",
   "metadata": {},
   "outputs": [],
   "source": [
    "using LinearAlgebra"
   ]
  },
  {
   "cell_type": "markdown",
   "id": "eb4c015c-dda1-42b7-b50a-d9ef5bf56a45",
   "metadata": {},
   "source": [
    "🚩 axpy!() function changes the Y array"
   ]
  },
  {
   "cell_type": "code",
   "execution_count": null,
   "id": "167df053-4bf8-4592-9fe5-02fe101dd278",
   "metadata": {},
   "outputs": [],
   "source": [
    "@time axpy!(b, X, Y) ;"
   ]
  },
  {
   "cell_type": "raw",
   "id": "1b6ca800-ae10-42a4-b4ba-e61f4f7ecec9",
   "metadata": {},
   "source": [
    "  0.000113 seconds"
   ]
  },
  {
   "cell_type": "markdown",
   "id": "0325c41c-1253-4cff-97aa-77f2db4558b3",
   "metadata": {},
   "source": [
    "### 👉 profiling "
   ]
  },
  {
   "cell_type": "code",
   "execution_count": null,
   "id": "5dcdac82-767b-4a87-9918-e0b67b2dc49f",
   "metadata": {},
   "outputs": [],
   "source": [
    "using Profile"
   ]
  },
  {
   "cell_type": "code",
   "execution_count": null,
   "id": "40139098-ba23-40be-be4d-d05d7ae6d7ad",
   "metadata": {},
   "outputs": [],
   "source": [
    "function myfunc()\n",
    "    A = rand(100, 100, 100)\n",
    "    maximum(A)\n",
    "end"
   ]
  },
  {
   "cell_type": "code",
   "execution_count": null,
   "id": "9b2600ca-532d-4c6e-b3be-40a4a67b5711",
   "metadata": {},
   "outputs": [],
   "source": [
    "@time myfunc();"
   ]
  },
  {
   "cell_type": "code",
   "execution_count": null,
   "id": "d22fb8d1-bb8a-4acf-89d9-4d0064154da7",
   "metadata": {},
   "outputs": [],
   "source": [
    "Profile.clear()"
   ]
  },
  {
   "cell_type": "code",
   "execution_count": null,
   "id": "980eec28-57be-4ed9-ba9e-9c08a35d4bee",
   "metadata": {},
   "outputs": [],
   "source": [
    "@profile myfunc();"
   ]
  },
  {
   "cell_type": "code",
   "execution_count": null,
   "id": "b22468b7-e6e6-4fc1-b0af-744e27974bda",
   "metadata": {},
   "outputs": [],
   "source": [
    "Profile.print()"
   ]
  },
  {
   "cell_type": "code",
   "execution_count": null,
   "id": "f12716f6-8a9e-430b-99b5-08159ec87979",
   "metadata": {},
   "outputs": [],
   "source": []
  }
 ],
 "metadata": {
  "kernelspec": {
   "display_name": "Julia 1.10.0",
   "language": "julia",
   "name": "julia-1.10"
  },
  "language_info": {
   "file_extension": ".jl",
   "mimetype": "application/julia",
   "name": "julia",
   "version": "1.10.0"
  }
 },
 "nbformat": 4,
 "nbformat_minor": 5
}
